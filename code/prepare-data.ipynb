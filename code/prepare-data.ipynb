{
 "cells": [
  {
   "cell_type": "markdown",
   "metadata": {},
   "source": [
    "<div style=\"font-size: 14;color:red;font-size:25PX;font-family: arial;\" align =\"rigth\" dir=\"rtl\">\n",
    "<b>\n",
    "1- فراخوان توابع مورد نیاز\n",
    "</b>\n",
    "</div>"
   ]
  },
  {
   "cell_type": "code",
   "execution_count": 4,
   "metadata": {},
   "outputs": [],
   "source": [
    "import os\n",
    "import pandas as pd\n",
    "#working_dir = os.getcwd()\n",
    "working_dir ='..'  # Use on Jupyter Notebook"
   ]
  },
  {
   "cell_type": "markdown",
   "metadata": {},
   "source": [
    "<div style=\"font-size: 14;color:red;font-size:25PX;font-family: arial;\" align =\"rigth\" dir=\"rtl\">\n",
    "<b>\n",
    "2- خواندن دیتاهای خام مربوط به کک 1030 \n",
    "</b>\n",
    "</div>"
   ]
  },
  {
   "cell_type": "code",
   "execution_count": 31,
   "metadata": {},
   "outputs": [
    {
     "name": "stdout",
     "output_type": "stream",
     "text": [
      "size of raw data = (1890, 13)\n",
      "after removing rejected goods = (1872, 13)\n",
      "from 14020915 to 14030915 = (683, 8)\n",
      "Average of data for each day = (157, 8)\n",
      "                c           s    humidity    ash        s112    s112_315  \\\n",
      "count  157.000000  157.000000  157.000000  157.0  157.000000  157.000000   \n",
      "mean    81.690318    1.220127    0.129172    0.0    2.142166   96.177006   \n",
      "std      1.193550    0.230451    0.627770    0.0    0.960875    4.529121   \n",
      "min     80.000000    0.630000    0.000000    0.0    0.000000   42.000000   \n",
      "25%     80.700000    1.000000    0.000000    0.0    1.500000   96.000000   \n",
      "50%     81.500000    1.300000    0.000000    0.0    2.000000   97.000000   \n",
      "75%     82.450000    1.400000    0.000000    0.0    2.710000   97.360000   \n",
      "max     84.900000    1.500000    5.300000    0.0    5.000000   98.000000   \n",
      "\n",
      "             s315  \n",
      "count  157.000000  \n",
      "mean     1.680573  \n",
      "std      4.596496  \n",
      "min      0.000000  \n",
      "25%      0.500000  \n",
      "50%      1.000000  \n",
      "75%      2.000000  \n",
      "max     57.000000  \n"
     ]
    }
   ],
   "source": [
    "df = pd.read_csv(f\"{working_dir}/Raw-Data/coke_1030_Lab.csv\",encoding='latin-1' )\n",
    "print(f\"size of raw data = {df.shape}\")\n",
    "#remove rejected materials\n",
    "df = df.astype({'time_1':str})\n",
    "df['time_1'] = df['time_1'].str.lower()\n",
    "mask = df['time_1'] != 'reject'\n",
    "df = df[mask]\n",
    "print(f\"after removing rejected goods = {df.shape}\")\n",
    "# Drop Some Columns\n",
    "df.drop(labels=['trailer','time_1','location','sample_no','factory'],axis=1,inplace=True)\n",
    "#Filter Tarikh\n",
    "df = df[df['tar'] >= 14020915]\n",
    "#change type of tarikh column for grouping\n",
    "df = df.astype({'tar': str})\n",
    "print(f\"from 14020915 to 14030915 = {df.shape}\")\n",
    "#group tarikh by Average of other columns\n",
    "df = df.groupby('tar', as_index=False).mean().round(2)\n",
    "df.reset_index(inplace=True ,drop=True)\n",
    "print(f\"Average of data for each day = {df.shape}\")\n",
    "print(df.describe())\n",
    "#drop column ash because all time is 0.0\n",
    "df.drop(labels=['ash'],axis=1,inplace=True)\n",
    "#save prepared data for next\n",
    "df.to_csv(f\"{working_dir}/data/coke_1030.csv\",index=False)\n",
    "#remove dataframe from memory\n",
    "del df"
   ]
  }
 ],
 "metadata": {
  "kernelspec": {
   "display_name": "venv",
   "language": "python",
   "name": "python3"
  },
  "language_info": {
   "codemirror_mode": {
    "name": "ipython",
    "version": 3
   },
   "file_extension": ".py",
   "mimetype": "text/x-python",
   "name": "python",
   "nbconvert_exporter": "python",
   "pygments_lexer": "ipython3",
   "version": "3.10.12"
  }
 },
 "nbformat": 4,
 "nbformat_minor": 2
}
