{
 "cells": [
  {
   "cell_type": "markdown",
   "metadata": {},
   "source": [
    "<div style=\"font-size: 14;color:red;font-size:25PX;font-family: arial;\" align =\"rigth\" dir=\"rtl\">\n",
    "<b>\n",
    "1- فراخوان توابع مورد نیاز\n",
    "</b>\n",
    "</div>"
   ]
  },
  {
   "cell_type": "code",
   "execution_count": 1,
   "metadata": {},
   "outputs": [],
   "source": [
    "import os\n",
    "import pandas as pd\n",
    "#working_dir = os.getcwd()\n",
    "working_dir ='..'  # Use on Jupyter Notebook"
   ]
  },
  {
   "cell_type": "markdown",
   "metadata": {},
   "source": [
    "<div style=\"font-size: 14;color:red;font-size:25PX;font-family: arial;\" align =\"rigth\" dir=\"rtl\">\n",
    "<b>\n",
    "2- خواندن دیتاهای خام مربوط به کک 1030 \n",
    "</b>\n",
    "</div>"
   ]
  },
  {
   "cell_type": "code",
   "execution_count": 47,
   "metadata": {},
   "outputs": [
    {
     "name": "stdout",
     "output_type": "stream",
     "text": [
      "(1890, 13)\n",
      "(701, 8)\n",
      "(159, 8)\n",
      "<class 'pandas.core.frame.DataFrame'>\n",
      "RangeIndex: 159 entries, 0 to 158\n",
      "Data columns (total 8 columns):\n",
      " #   Column    Non-Null Count  Dtype  \n",
      "---  ------    --------------  -----  \n",
      " 0   tar       159 non-null    object \n",
      " 1   c         159 non-null    float64\n",
      " 2   s         159 non-null    float64\n",
      " 3   humidity  159 non-null    float64\n",
      " 4   ash       159 non-null    float64\n",
      " 5   s112      159 non-null    float64\n",
      " 6   s112_315  159 non-null    float64\n",
      " 7   s315      159 non-null    float64\n",
      "dtypes: float64(7), object(1)\n",
      "memory usage: 10.1+ KB\n",
      "None\n",
      "                c           s    humidity    ash        s112    s112_315  \\\n",
      "count  159.000000  159.000000  159.000000  159.0  159.000000  159.000000   \n",
      "mean    81.674780    1.226352    0.122201    0.0    2.119308   96.182956   \n",
      "std      1.202059    0.233749    0.601093    0.0    0.971329    3.822220   \n",
      "min     79.750000    0.630000    0.000000    0.0    0.000000   53.000000   \n",
      "25%     80.690000    1.000000    0.000000    0.0    1.500000   96.070000   \n",
      "50%     81.500000    1.300000    0.000000    0.0    2.000000   97.000000   \n",
      "75%     82.445000    1.415000    0.000000    0.0    2.690000   97.380000   \n",
      "max     84.900000    1.550000    5.300000    0.0    5.000000   98.500000   \n",
      "\n",
      "             s315  \n",
      "count  159.000000  \n",
      "mean     1.697484  \n",
      "std      3.963616  \n",
      "min      0.000000  \n",
      "25%      0.500000  \n",
      "50%      1.000000  \n",
      "75%      2.000000  \n",
      "max     46.500000  \n"
     ]
    }
   ],
   "source": [
    "df = pd.read_csv(f\"{working_dir}/Raw-Data/coke_1030_Lab.csv\",encoding='latin-1' )\n",
    "print(df.shape)\n",
    "# Drop Some Columns\n",
    "df.drop(labels=['trailer','time_1','location','sample_no','factory'],axis=1,inplace=True)\n",
    "#Filter Tarikh\n",
    "df = df[df['tar'] >= 14020915]\n",
    "#change type of tarikh column for grouping\n",
    "df = df.astype({'tar': str})\n",
    "print(df.shape)\n",
    "#group tarikh by Average of other columns\n",
    "df = df.groupby('tar', as_index=False).mean().round(2)\n",
    "df.reset_index(inplace=True ,drop=True)\n",
    "print(df.shape)\n",
    "print(df.info())\n",
    "print(df.describe())\n",
    "#drop column ash because all time is 0.0\n",
    "df.drop(labels=['ash'],axis=1,inplace=True)\n",
    "#save prepared data for next\n",
    "df.to_csv(f\"{working_dir}/data/coke_1030.csv\",index=False)\n",
    "#remove dataframe from memory\n",
    "del df"
   ]
  }
 ],
 "metadata": {
  "kernelspec": {
   "display_name": "venv",
   "language": "python",
   "name": "python3"
  },
  "language_info": {
   "codemirror_mode": {
    "name": "ipython",
    "version": 3
   },
   "file_extension": ".py",
   "mimetype": "text/x-python",
   "name": "python",
   "nbconvert_exporter": "python",
   "pygments_lexer": "ipython3",
   "version": "3.10.12"
  }
 },
 "nbformat": 4,
 "nbformat_minor": 2
}
