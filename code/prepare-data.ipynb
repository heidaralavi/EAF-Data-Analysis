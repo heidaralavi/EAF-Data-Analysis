{
 "cells": [
  {
   "cell_type": "markdown",
   "metadata": {},
   "source": [
    "<div style=\"font-size: 14;color:red;font-size:25PX;font-family: arial;\" align =\"rigth\" dir=\"rtl\">\n",
    "<b>\n",
    "1- فراخوان توابع مورد نیاز\n",
    "</b>\n",
    "</div>"
   ]
  },
  {
   "cell_type": "code",
   "execution_count": 1,
   "metadata": {},
   "outputs": [],
   "source": [
    "import os\n",
    "import pandas as pd\n",
    "#working_dir = os.getcwd()\n",
    "working_dir ='..'  # Use on Jupyter Notebook"
   ]
  },
  {
   "cell_type": "markdown",
   "metadata": {},
   "source": [
    "<div style=\"font-size: 14;color:red;font-size:25PX;font-family: arial;\" align =\"rigth\" dir=\"rtl\">\n",
    "<b>\n",
    "2- خواندن دیتاهای خام مربوط به کک 1030 \n",
    "</b>\n",
    "</div>"
   ]
  },
  {
   "cell_type": "code",
   "execution_count": 2,
   "metadata": {},
   "outputs": [
    {
     "name": "stdout",
     "output_type": "stream",
     "text": [
      "size of raw data = (1890, 13)\n",
      "after removing rejected goods = (1872, 13)\n",
      "from 14020915 to 14030915 = (683, 8)\n",
      "Average of data for each day = (157, 8)\n",
      "                c           s    humidity    ash        s112    s112_315  \\\n",
      "count  157.000000  157.000000  157.000000  157.0  157.000000  157.000000   \n",
      "mean    81.690318    1.220127    0.129172    0.0    2.142166   96.177006   \n",
      "std      1.193550    0.230451    0.627770    0.0    0.960875    4.529121   \n",
      "min     80.000000    0.630000    0.000000    0.0    0.000000   42.000000   \n",
      "25%     80.700000    1.000000    0.000000    0.0    1.500000   96.000000   \n",
      "50%     81.500000    1.300000    0.000000    0.0    2.000000   97.000000   \n",
      "75%     82.450000    1.400000    0.000000    0.0    2.710000   97.360000   \n",
      "max     84.900000    1.500000    5.300000    0.0    5.000000   98.000000   \n",
      "\n",
      "             s315  \n",
      "count  157.000000  \n",
      "mean     1.680573  \n",
      "std      4.596496  \n",
      "min      0.000000  \n",
      "25%      0.500000  \n",
      "50%      1.000000  \n",
      "75%      2.000000  \n",
      "max     57.000000  \n"
     ]
    }
   ],
   "source": [
    "df = pd.read_csv(f\"{working_dir}/Raw-Data/coke_1030_Lab.csv\",encoding='latin-1' )\n",
    "print(f\"size of raw data = {df.shape}\")\n",
    "#remove rejected materials\n",
    "df = df.astype({'time_1':str})\n",
    "df['time_1'] = df['time_1'].str.lower()\n",
    "mask = df['time_1'] != 'reject'\n",
    "df = df[mask]\n",
    "print(f\"after removing rejected goods = {df.shape}\")\n",
    "# Drop Some Columns\n",
    "df.drop(labels=['trailer','time_1','location','sample_no','factory'],axis=1,inplace=True)\n",
    "#Filter Tarikh\n",
    "df = df[df['tar'] >= 14020915]\n",
    "#change type of tarikh column for grouping\n",
    "df = df.astype({'tar': str})\n",
    "print(f\"from 14020915 to 14030915 = {df.shape}\")\n",
    "#group tarikh by Average of other columns\n",
    "df = df.groupby('tar', as_index=False).mean().round(2)\n",
    "df.reset_index(inplace=True ,drop=True)\n",
    "print(f\"Average of data for each day = {df.shape}\")\n",
    "print(df.describe())\n",
    "#drop column ash because all time is 0.0\n",
    "df.drop(labels=['ash'],axis=1,inplace=True)\n",
    "#save prepared data for next\n",
    "df.to_csv(f\"{working_dir}/data/coke_1030.csv\",index=False)\n",
    "#remove dataframe from memory\n",
    "del df"
   ]
  },
  {
   "cell_type": "markdown",
   "metadata": {},
   "source": [
    "<div style=\"font-size: 14;color:red;font-size:25PX;font-family: arial;\" align =\"rigth\" dir=\"rtl\">\n",
    "<b>\n",
    "3- خواندن دیتاهای خام مربوط به کک فاین \n",
    "</b>\n",
    "</div>"
   ]
  },
  {
   "cell_type": "code",
   "execution_count": 3,
   "metadata": {},
   "outputs": [
    {
     "name": "stdout",
     "output_type": "stream",
     "text": [
      "size of raw data = (3796, 14)\n",
      "after removing rejected goods = (3778, 14)\n",
      "from 14020915 to 14030915 = (1118, 8)\n",
      "Average of data for each day = (181, 8)\n",
      "                c           s    humidity    ash         s05     s05_335  \\\n",
      "count  181.000000  181.000000  181.000000  181.0  181.000000  181.000000   \n",
      "mean    84.339945    1.084972    0.096354    0.0    2.292376   96.540055   \n",
      "std      5.881336    0.300516    0.545765    0.0    0.844233    1.582831   \n",
      "min     75.470000    0.210000    0.000000    0.0    0.000000   91.500000   \n",
      "25%     80.670000    0.920000    0.000000    0.0    2.000000   96.500000   \n",
      "50%     82.030000    1.100000    0.000000    0.0    2.000000   97.000000   \n",
      "75%     84.440000    1.320000    0.000000    0.0    2.500000   97.000000   \n",
      "max     98.690000    1.830000    5.300000    0.0    5.330000   99.000000   \n",
      "\n",
      "             s335  \n",
      "count  181.000000  \n",
      "mean     1.167348  \n",
      "std      1.036174  \n",
      "min      0.000000  \n",
      "25%      0.800000  \n",
      "50%      1.000000  \n",
      "75%      1.000000  \n",
      "max      6.000000  \n"
     ]
    }
   ],
   "source": [
    "df = pd.read_csv(f\"{working_dir}/Raw-Data/coke_Fine_Lab.csv\",encoding='latin-1' )\n",
    "print(f\"size of raw data = {df.shape}\")\n",
    "#remove rejected materials\n",
    "df = df.astype({'time_1':str})\n",
    "df['time_1'] = df['time_1'].str.lower()\n",
    "mask = df['time_1'] != 'reject'\n",
    "df = df[mask]\n",
    "print(f\"after removing rejected goods = {df.shape}\")\n",
    "# Drop Some Columns\n",
    "df.drop(labels=['sampling_d','trailer','time_1','location','sample_no','factory'],axis=1,inplace=True)\n",
    "#Filter Tarikh\n",
    "df = df[df['tar'] >= 14020915]\n",
    "#change type of tarikh column for grouping\n",
    "df = df.astype({'tar': str})\n",
    "print(f\"from 14020915 to 14030915 = {df.shape}\")\n",
    "#group tarikh by Average of other columns\n",
    "df = df.groupby('tar', as_index=False).mean().round(2)\n",
    "df.reset_index(inplace=True ,drop=True)\n",
    "print(f\"Average of data for each day = {df.shape}\")\n",
    "print(df.describe())\n",
    "#drop column ash because all time is 0.0\n",
    "df.drop(labels=['ash'],axis=1,inplace=True)\n",
    "#save prepared data for next\n",
    "df.to_csv(f\"{working_dir}/data/coke_fine.csv\",index=False)\n",
    "#remove dataframe from memory\n",
    "del df"
   ]
  },
  {
   "cell_type": "markdown",
   "metadata": {},
   "source": [
    "<div style=\"font-size: 14;color:red;font-size:25PX;font-family: arial;\" align =\"rigth\" dir=\"rtl\">\n",
    "<b>\n",
    "4- خواندن دیتاهای خام مربوط به دولومیت \n",
    "</b>\n",
    "</div>"
   ]
  },
  {
   "cell_type": "code",
   "execution_count": 4,
   "metadata": {},
   "outputs": [
    {
     "name": "stdout",
     "output_type": "stream",
     "text": [
      "size of raw data = (4476, 8)\n",
      "from 14020915 to 14030915 = (627, 6)\n",
      "Average of data for each day = (289, 6)\n",
      "              cao         mgo       s0_95     s95_385   s385_1000\n",
      "count  289.000000  289.000000  289.000000  289.000000  289.000000\n",
      "mean    55.067197   33.609619    2.683356   82.296505    0.140934\n",
      "std      0.909331    0.807629    0.898629   21.279715    1.390729\n",
      "min     49.930000   32.000000    0.000000    0.000000    0.000000\n",
      "25%     54.570000   33.000000    2.000000   64.330000    0.000000\n",
      "50%     54.900000   33.630000    2.670000   96.500000    0.000000\n",
      "75%     55.550000   34.100000    3.500000   97.000000    0.000000\n",
      "max     58.700000   38.200000    7.000000   99.000000   19.000000\n"
     ]
    }
   ],
   "source": [
    "df = pd.read_csv(f\"{working_dir}/Raw-Data/dolo_Lab.csv\",encoding='latin-1' )\n",
    "print(f\"size of raw data = {df.shape}\")\n",
    "# Drop Some Columns\n",
    "df.drop(labels=['sample_no','factory'],axis=1,inplace=True)\n",
    "#Filter Tarikh\n",
    "df = df[df['tar'] >= 14020915]\n",
    "#change type of tarikh column for grouping\n",
    "df = df.astype({'tar': str})\n",
    "print(f\"from 14020915 to 14030915 = {df.shape}\")\n",
    "#group tarikh by Average of other columns\n",
    "df = df.groupby('tar', as_index=False).mean().round(2)\n",
    "df.reset_index(inplace=True ,drop=True)\n",
    "print(f\"Average of data for each day = {df.shape}\")\n",
    "print(df.describe())\n",
    "#save prepared data for next\n",
    "df.to_csv(f\"{working_dir}/data/dolo.csv\",index=False)\n",
    "#remove dataframe from memory\n",
    "del df"
   ]
  },
  {
   "cell_type": "markdown",
   "metadata": {},
   "source": [
    "<div style=\"font-size: 14;color:red;font-size:25PX;font-family: arial;\" align =\"rigth\" dir=\"rtl\">\n",
    "<b>\n",
    "5- خواندن دیتاهای خام مربوط به آهک \n",
    "</b>\n",
    "</div>"
   ]
  },
  {
   "cell_type": "code",
   "execution_count": 5,
   "metadata": {},
   "outputs": [
    {
     "name": "stdout",
     "output_type": "stream",
     "text": [
      "size of raw data = (8613, 11)\n",
      "from 14020915 to 14030915 = (1077, 9)\n",
      "Average of data for each day = (316, 9)\n",
      "              cao         mgo   s0_5  s5_335   s335       s0_95     s95_508  \\\n",
      "count  316.000000  316.000000  316.0   316.0  316.0  316.000000  316.000000   \n",
      "mean    91.325348    1.218449    0.0     0.0    0.0    3.859810   84.259494   \n",
      "std      0.537335    0.136190    0.0     0.0    0.0    2.072044   18.643998   \n",
      "min     89.500000    0.800000    0.0     0.0    0.0    0.800000   19.200000   \n",
      "25%     90.972500    1.200000    0.0     0.0    0.0    3.000000   72.555000   \n",
      "50%     91.345000    1.200000    0.0     0.0    0.0    4.000000   95.500000   \n",
      "75%     91.700000    1.200000    0.0     0.0    0.0    4.330000   96.000000   \n",
      "max     93.100000    2.430000    0.0     0.0    0.0   27.580000   97.500000   \n",
      "\n",
      "        s508  \n",
      "count  316.0  \n",
      "mean     0.0  \n",
      "std      0.0  \n",
      "min      0.0  \n",
      "25%      0.0  \n",
      "50%      0.0  \n",
      "75%      0.0  \n",
      "max      0.0  \n"
     ]
    }
   ],
   "source": [
    "df = pd.read_csv(f\"{working_dir}/Raw-Data/lime_Lab.csv\",encoding='latin-1' )\n",
    "print(f\"size of raw data = {df.shape}\")\n",
    "# Drop Some Columns\n",
    "df.drop(labels=['sample_no','factory'],axis=1,inplace=True)\n",
    "#Filter Tarikh\n",
    "df = df[df['tar'] >= 14020915]\n",
    "#change type of tarikh column for grouping\n",
    "df = df.astype({'tar': str})\n",
    "print(f\"from 14020915 to 14030915 = {df.shape}\")\n",
    "#group tarikh by Average of other columns\n",
    "df = df.groupby('tar', as_index=False).mean().round(2)\n",
    "df.reset_index(inplace=True ,drop=True)\n",
    "print(f\"Average of data for each day = {df.shape}\")\n",
    "print(df.describe())\n",
    "#drop some columns because all time are 0.0\n",
    "df.drop(labels=['s0_5','s5_335','s335','s508'],axis=1,inplace=True)\n",
    "#save prepared data for next\n",
    "df.to_csv(f\"{working_dir}/data/lime.csv\",index=False)\n",
    "#remove dataframe from memory\n",
    "del df"
   ]
  },
  {
   "cell_type": "markdown",
   "metadata": {},
   "source": [
    "<div style=\"font-size: 14;color:red;font-size:25PX;font-family: arial;\" align =\"rigth\" dir=\"rtl\">\n",
    "<b>\n",
    "6- خواندن دیتاهای خام مربوط به DRI \n",
    "</b>\n",
    "</div>"
   ]
  },
  {
   "cell_type": "code",
   "execution_count": 6,
   "metadata": {},
   "outputs": [
    {
     "name": "stdout",
     "output_type": "stream",
     "text": [
      "size of raw data = (8364, 21)\n",
      "from 14020915 to 14030915 = (1953, 19)\n",
      "            heat_no     fe_metal     fe_total           md            c  \\\n",
      "count  1.953000e+03  1953.000000  1953.000000  1953.000000  1953.000000   \n",
      "mean   4.030478e+06    79.247926    86.528623    91.575166     1.791910   \n",
      "std    3.503837e+03     2.096178     1.020123     1.718765     0.347379   \n",
      "min    4.020000e+06    67.600000    80.800000    82.200000     0.000000   \n",
      "25%    4.026524e+06    78.000000    85.900000    90.600000     1.600000   \n",
      "50%    4.031522e+06    79.500000    86.600000    91.800000     1.800000   \n",
      "75%    4.033177e+06    80.700000    87.200000    92.800000     2.000000   \n",
      "max    4.035152e+06    83.600000    89.500000    94.900000     2.900000   \n",
      "\n",
      "                 s          cao         sio2          mgo        al2o3  \\\n",
      "count  1953.000000  1953.000000  1953.000000  1953.000000  1953.000000   \n",
      "mean      0.003054     0.227496     1.240737     0.212038     0.231782   \n",
      "std       0.000638     0.400286     2.187014     0.393490     0.407748   \n",
      "min       0.000000     0.000000     0.000000     0.000000     0.000000   \n",
      "25%       0.003000     0.000000     0.000000     0.000000     0.000000   \n",
      "50%       0.003000     0.000000     0.000000     0.000000     0.000000   \n",
      "75%       0.003000     0.000000     0.000000     0.000000     0.000000   \n",
      "max       0.008000     1.070000     5.880000     2.120000     1.060000   \n",
      "\n",
      "                 p          mno        gunge          feo        feo_c  \n",
      "count  1953.000000  1953.000000  1953.000000  1953.000000  1953.000000  \n",
      "mean      0.023377     0.009501     9.593686     9.366489     5.166669  \n",
      "std       0.042230     0.016891     0.923193     1.853158     1.589240  \n",
      "min       0.000000     0.000000     6.249000     5.660500     0.000000  \n",
      "25%       0.000000     0.000000     9.037000     8.104800     4.210000  \n",
      "50%       0.000000     0.000000     9.609800     9.134000     5.018000  \n",
      "75%       0.000000     0.000000    10.096000    10.421000     6.003000  \n",
      "max       0.132000     0.090000    15.208000    19.169000    19.458000  \n"
     ]
    }
   ],
   "source": [
    "df = pd.read_csv(f\"{working_dir}/Raw-Data/dri_Lab.csv\",encoding='latin-1' )\n",
    "print(f\"size of raw data = {df.shape}\")\n",
    "# Drop Some Columns\n",
    "df.drop(labels=['lab_no','factory'],axis=1,inplace=True)\n",
    "#Filter Tarikh\n",
    "df = df[df['tar'] >= 14020915]\n",
    "#change type of tarikh column for grouping\n",
    "df = df.astype({'tar': str})\n",
    "print(f\"from 14020915 to 14030915 = {df.shape}\")\n",
    "print(df.describe())\n",
    "#drop column md_c because all time is 0.0\n",
    "df.drop(labels=['md_c'],axis=1,inplace=True)\n",
    "#save prepared data for next\n",
    "df.to_csv(f\"{working_dir}/data/dri.csv\",index=False)\n",
    "#remove dataframe from memory\n",
    "del df"
   ]
  },
  {
   "cell_type": "markdown",
   "metadata": {},
   "source": [
    "<div style=\"font-size: 14;color:red;font-size:25PX;font-family: arial;\" align =\"rigth\" dir=\"rtl\">\n",
    "<b>\n",
    "7- خواندن دیتاهای خام مربوط به سرباره\n",
    "</b>\n",
    "</div>"
   ]
  },
  {
   "cell_type": "code",
   "execution_count": 7,
   "metadata": {},
   "outputs": [
    {
     "name": "stdout",
     "output_type": "stream",
     "text": [
      "size of raw data = (7140, 12)\n",
      "from 14020915 to 14030915 = (1649, 12)\n",
      "                tar       heat_no          cao          feo         sio2  \\\n",
      "count  1.649000e+03  1.649000e+03  1649.000000  1649.000000  1649.000000   \n",
      "mean   1.402799e+07  4.030588e+06    26.811825    30.949303    22.122317   \n",
      "std    4.184968e+03  3.254414e+03     3.569229     7.242999     2.864348   \n",
      "min    1.402092e+07  4.024660e+06    13.100000    13.200000    12.800000   \n",
      "25%    1.402122e+07  4.026355e+06    24.500000    25.800000    20.100000   \n",
      "50%    1.403032e+07  4.031540e+06    27.000000    30.700000    22.100000   \n",
      "75%    1.403070e+07  4.033213e+06    29.300000    35.700000    24.200000   \n",
      "max    1.403092e+07  4.034580e+06    36.000000    60.000000    29.900000   \n",
      "\n",
      "               mgo        al2o3         p2o5          mno           b2  \\\n",
      "count  1649.000000  1649.000000  1649.000000  1649.000000  1649.000000   \n",
      "mean     10.152274     4.303457     0.787596     0.210795     1.218029   \n",
      "std       1.493017     0.587321     0.133456     0.080632     0.126825   \n",
      "min       5.800000     0.500000     0.243000     0.130000     0.910000   \n",
      "25%       9.300000     3.900000     0.736000     0.176000     1.140000   \n",
      "50%      10.000000     4.300000     0.809000     0.202000     1.210000   \n",
      "75%      10.800000     4.700000     0.868000     0.227000     1.300000   \n",
      "max      24.700000     6.900000     1.334000     1.965000     2.520000   \n",
      "\n",
      "                b3           b4  \n",
      "count  1649.000000  1649.000000  \n",
      "mean      1.019448     1.406616  \n",
      "std       0.106140     0.127346  \n",
      "min       0.750000     1.040000  \n",
      "25%       0.950000     1.320000  \n",
      "50%       1.010000     1.390000  \n",
      "75%       1.090000     1.490000  \n",
      "max       1.830000     2.270000  \n"
     ]
    }
   ],
   "source": [
    "df = pd.read_csv(f\"{working_dir}/Raw-Data/slag_Lab.csv\",encoding='latin-1' )\n",
    "print(f\"size of raw data = {df.shape}\")\n",
    "#Filter Tarikh\n",
    "df = df[df['tar'] >= 14020915]\n",
    "print(f\"from 14020915 to 14030915 = {df.shape}\")\n",
    "print(df.describe())\n",
    "#save prepared data for next\n",
    "df.to_csv(f\"{working_dir}/data/slag.csv\",index=False)\n",
    "#remove dataframe from memory\n",
    "del df"
   ]
  },
  {
   "cell_type": "markdown",
   "metadata": {},
   "source": [
    "<div style=\"font-size: 14;color:red;font-size:25PX;font-family: arial;\" align =\"rigth\" dir=\"rtl\">\n",
    "<b>\n",
    "8- خواندن دیتاهای خام مربوط به ذوب و کوره\n",
    "</b>\n",
    "</div>"
   ]
  },
  {
   "cell_type": "code",
   "execution_count": 8,
   "metadata": {},
   "outputs": [
    {
     "name": "stdout",
     "output_type": "stream",
     "text": [
      "size of raw data = (6587, 35)\n",
      "from 14020915 to 14030915 = (6586, 33)\n",
      "                tar          Heat     Duration     Power On    Power Off  \\\n",
      "count  4.519000e+03  4.519000e+03  4519.000000  4519.000000  4519.000000   \n",
      "mean   1.402814e+07  4.030637e+06    62.370215    52.452755     9.427086   \n",
      "std    4.081635e+03  3.130832e+03     4.518949     4.160345     3.084171   \n",
      "min    1.402092e+07  4.024675e+06    32.000000    23.000000     4.000000   \n",
      "25%    1.402123e+07  4.026535e+06    59.000000    50.000000     7.000000   \n",
      "50%    1.403031e+07  4.031460e+06    62.000000    52.000000     8.000000   \n",
      "75%    1.403063e+07  4.033142e+06    66.000000    55.000000    10.000000   \n",
      "max    1.403092e+07  4.034594e+06    70.000000    63.000000    34.000000   \n",
      "\n",
      "            Delays      DRI [t]      Ele [kWh]  Ele [kWh/t]     Ele [MW]  ...  \\\n",
      "count  4519.000000  4519.000000    4519.000000  4519.000000  4519.000000  ...   \n",
      "mean      4.383049    55.834050  102377.654487  2080.406787   116.157011  ...   \n",
      "std       3.073900    55.138378    9459.223304  1387.001020     7.705493  ...   \n",
      "min       0.000000     0.000000   44631.773440   449.625183    84.688660  ...   \n",
      "25%       2.000000    21.392594   96828.335940  1119.803894   114.103436  ...   \n",
      "50%       3.000000    42.096260  102188.281300  1611.743652   116.954887  ...   \n",
      "75%       5.000000    71.412197  108130.500000  2390.817749   120.168316  ...   \n",
      "max      29.000000   240.454513  131262.968800  9188.230469   131.602890  ...   \n",
      "\n",
      "       CaO.inj [kg]  Chemical [MWh]       C [kg]      CaO [kg]      MgO [kg]  \\\n",
      "count        4519.0     4519.000000  4519.000000   4519.000000   4519.000000   \n",
      "mean            0.0    17108.903883  1544.461145   9789.547661   8764.628886   \n",
      "std             0.0     2019.210712   474.701030   1141.278000   1853.344894   \n",
      "min             0.0     7204.520020     0.000000   3972.302734      0.000000   \n",
      "25%             0.0    15929.399900  1004.500000   9084.161621   8400.696777   \n",
      "50%             0.0    17181.849610  1503.500000   9751.210938   9098.792969   \n",
      "75%             0.0    18393.895510  2002.100098  10540.257325   9655.538086   \n",
      "max             0.0    26907.210940  2717.100830  15740.782230  12001.679690   \n",
      "\n",
      "       Tapping Time [Sec]        EAF_DRI      HDRI(T)      First C  \\\n",
      "count         4519.000000    4519.000000  4519.000000  4519.000000   \n",
      "mean           267.679796   55831.837349   147.793859     0.089436   \n",
      "std             68.059094   55149.785927    66.354865     0.036039   \n",
      "min            182.000000       0.000000     0.000000     0.000000   \n",
      "25%            228.000000   21392.592770   126.850002     0.069813   \n",
      "50%            258.000000   42071.953130   165.800003     0.084965   \n",
      "75%            294.000000   71305.734375   188.100052     0.102645   \n",
      "max           2401.000000  240454.515600   667.699829     0.501412   \n",
      "\n",
      "        First Temp  \n",
      "count  4519.000000  \n",
      "mean   1566.943765  \n",
      "std      54.621955  \n",
      "min       0.000000  \n",
      "25%    1524.900024  \n",
      "50%    1563.599976  \n",
      "75%    1594.049988  \n",
      "max    1749.599976  \n",
      "\n",
      "[8 rows x 27 columns]\n"
     ]
    }
   ],
   "source": [
    "def remove_hifen(x):\n",
    "    output = str(x).replace(\"-\",\"\")\n",
    "    return int(output)\n",
    "\n",
    "\n",
    "df = pd.read_csv(f\"{working_dir}/Raw-Data/EAF Data.csv\",encoding='latin-1' )\n",
    "#drop twe row from end because its total reports\n",
    "df.drop(df.tail(2).index,inplace = True)\n",
    "print(f\"size of raw data = {df.shape}\")\n",
    "#modify tarikh format to shape of other files and Drop Some Columns\n",
    "df['tar_'] = df['Persian_Date'].apply(remove_hifen)\n",
    "df.insert(0, 'tar', df['tar_'])\n",
    "df.drop(labels=['Row','Date','Persian_Date','tar_'],axis=1,inplace=True)\n",
    "#Filter Tarikh\n",
    "df = df[df['tar'] >= 14020915]\n",
    "print(f\"from 14020915 to 14030915 = {df.shape}\")\n",
    "# some rows have equal values\n",
    "df = df.drop_duplicates(subset=['tar', 'Heat'], keep='last')\n",
    "# filter only dri and drop column\n",
    "mask = df['Product Kind'] == 'ONLY_DRI'\n",
    "df = df[mask]\n",
    "df.drop(labels=['Product Kind'],axis=1,inplace=True)\n",
    "# filter tapped > 50\n",
    "mask = df['Tapped [t]'] >= 50\n",
    "df = df[mask]\n",
    "# filter melting without scrap and drop column\n",
    "mask = df['Scarp [t]'] == 0\n",
    "df = df[mask]\n",
    "df.drop(labels=['# Bucket','Scarp [t]'],axis=1,inplace=True)\n",
    "# filter duration \n",
    "mask = df['Duration'] <= 70\n",
    "df = df[mask]\n",
    "print(df.describe())\n",
    "#save prepared data for next\n",
    "df.to_csv(f\"{working_dir}/data/eaf_data.csv\",index=False)\n",
    "#remove dataframe from memory\n",
    "del df"
   ]
  }
 ],
 "metadata": {
  "kernelspec": {
   "display_name": "Python 3",
   "language": "python",
   "name": "python3"
  },
  "language_info": {
   "codemirror_mode": {
    "name": "ipython",
    "version": 3
   },
   "file_extension": ".py",
   "mimetype": "text/x-python",
   "name": "python",
   "nbconvert_exporter": "python",
   "pygments_lexer": "ipython3",
   "version": "3.12.4"
  }
 },
 "nbformat": 4,
 "nbformat_minor": 2
}
