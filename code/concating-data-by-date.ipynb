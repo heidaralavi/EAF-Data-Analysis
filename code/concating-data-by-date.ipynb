{
 "cells": [
  {
   "cell_type": "markdown",
   "metadata": {},
   "source": [
    "<div style=\"font-size: 14;color:red;font-size:25PX;font-family: arial;\" align =\"rigth\" dir=\"rtl\">\n",
    "<b>\n",
    "بعد از آماده سازی داده ها این مرحله اجرا می شود\n",
    "</b>\n",
    "</div>"
   ]
  },
  {
   "cell_type": "markdown",
   "metadata": {},
   "source": [
    "<div style=\"font-size: 14;color:red;font-size:25PX;font-family: arial;\" align =\"rigth\" dir=\"rtl\">\n",
    "<b>\n",
    "1- فراخوان توابع و کتابخانه های مورد نیاز\n",
    "</b>\n",
    "</div>"
   ]
  },
  {
   "cell_type": "code",
   "execution_count": 1,
   "metadata": {},
   "outputs": [],
   "source": [
    "import os\n",
    "import pandas as pd\n",
    "from persiantools.jdatetime import JalaliDate\n",
    "#working_dir = os.getcwd()\n",
    "working_dir ='..'  # Use on Jupyter Notebook"
   ]
  },
  {
   "cell_type": "markdown",
   "metadata": {},
   "source": [
    "<div style=\"font-size: 14;color:red;font-size:25PX;font-family: arial;\" align =\"rigth\" dir=\"rtl\">\n",
    "<b>\n",
    "2- ساخت دیتافریم خالی با ایندکس تاریخ شمسی\n",
    "</b>\n",
    "</div>"
   ]
  },
  {
   "cell_type": "code",
   "execution_count": 10,
   "metadata": {},
   "outputs": [],
   "source": [
    "date_rng = pd.date_range('2023-12-6', periods=366, freq='D')\n",
    "hijri_rng = []\n",
    "for item in date_rng:\n",
    "    y = item.year\n",
    "    m = item.month\n",
    "    d = item.day\n",
    "    jalali_date = str(JalaliDate.to_jalali(y, m ,d)).replace(\"-\",\"\")\n",
    "    hijri_rng.append(int(jalali_date))"
   ]
  },
  {
   "cell_type": "markdown",
   "metadata": {},
   "source": [
    "<div style=\"font-size: 14;color:red;font-size:25PX;font-family: arial;\" align =\"rigth\" dir=\"rtl\">\n",
    "<b>\n",
    "3- تجمیع تمام دیتاهای متریال ورودی به کوره \n",
    "</b>\n",
    "</div>"
   ]
  },
  {
   "cell_type": "code",
   "execution_count": 9,
   "metadata": {},
   "outputs": [
    {
     "name": "stdout",
     "output_type": "stream",
     "text": [
      "(366, 34)\n"
     ]
    }
   ],
   "source": [
    "root_df = pd.DataFrame(index=hijri_rng)\n",
    "# add Coke1030\n",
    "df_coke1030 = pd.read_csv(f\"{working_dir}/data/coke_1030.csv\" )\n",
    "df_coke1030.set_index(keys='tar', inplace=True ,drop=True)\n",
    "df_coke1030.columns = [f\"Coke_1030({name})\" for name in df_coke1030.columns]\n",
    "root_df = root_df.join(df_coke1030).fillna(df_coke1030.mean().round(2))\n",
    "\n",
    "# add Coke Fine\n",
    "df_coke_fine = pd.read_csv(f\"{working_dir}/data/coke_fine.csv\" )\n",
    "df_coke_fine.set_index(keys='tar', inplace=True ,drop=True)\n",
    "df_coke_fine.columns = [f\"Coke_Fine({name})\" for name in df_coke_fine.columns]\n",
    "root_df = root_df.join(df_coke_fine).fillna(df_coke_fine.mean().round(2))\n",
    "\n",
    "# add dolo\n",
    "df_dolo = pd.read_csv(f\"{working_dir}/data/dolo.csv\" )\n",
    "df_dolo.set_index(keys='tar', inplace=True ,drop=True)\n",
    "df_dolo.columns = [f\"dolomite({name})\" for name in df_dolo.columns]\n",
    "root_df = root_df.join(df_dolo).fillna(df_dolo.mean().round(2))\n",
    "\n",
    "# add lime\n",
    "df_lime = pd.read_csv(f\"{working_dir}/data/lime.csv\" )\n",
    "df_lime.set_index(keys='tar', inplace=True ,drop=True)\n",
    "df_lime.columns = [f\"lime({name})\" for name in df_lime.columns]\n",
    "root_df = root_df.join(df_lime).fillna(df_lime.mean().round(2))\n",
    "\n",
    "# add dri\n",
    "df_dri = pd.read_csv(f\"{working_dir}/data/dri.csv\" )\n",
    "df_dri.set_index(keys='tar', inplace=True ,drop=True)\n",
    "df_dri.columns = [f\"dri({name})\" for name in df_dri.columns]\n",
    "root_df = root_df.join(df_dri).fillna(df_dri.mean().round(2))\n",
    "\n",
    "print(root_df.shape)\n",
    "\n",
    "#save prepared data for next\n",
    "root_df.to_csv(f\"{working_dir}/data/total_feed.csv\",index=True,index_label='tar')"
   ]
  }
 ],
 "metadata": {
  "kernelspec": {
   "display_name": "venv",
   "language": "python",
   "name": "python3"
  },
  "language_info": {
   "codemirror_mode": {
    "name": "ipython",
    "version": 3
   },
   "file_extension": ".py",
   "mimetype": "text/x-python",
   "name": "python",
   "nbconvert_exporter": "python",
   "pygments_lexer": "ipython3",
   "version": "3.10.12"
  }
 },
 "nbformat": 4,
 "nbformat_minor": 2
}
