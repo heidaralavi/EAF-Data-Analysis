{
 "cells": [
  {
   "cell_type": "markdown",
   "metadata": {},
   "source": [
    "<div style=\"font-size: 14;color:red;font-size:25PX;font-family: arial;\" align =\"rigth\" dir=\"rtl\">\n",
    "<b>\n",
    "بعد از آماده سازی داده ها این مرحله اجرا می شود\n",
    "</b>\n",
    "</div>"
   ]
  },
  {
   "cell_type": "markdown",
   "metadata": {},
   "source": [
    "<div style=\"font-size: 14;color:red;font-size:25PX;font-family: arial;\" align =\"rigth\" dir=\"rtl\">\n",
    "<b>\n",
    "1- فراخوان توابع و کتابخانه های مورد نیاز\n",
    "</b>\n",
    "</div>"
   ]
  },
  {
   "cell_type": "code",
   "execution_count": 1,
   "metadata": {},
   "outputs": [],
   "source": [
    "import os\n",
    "import pandas as pd\n",
    "from persiantools.jdatetime import JalaliDate\n",
    "#working_dir = os.getcwd()\n",
    "working_dir ='..'  # Use on Jupyter Notebook"
   ]
  },
  {
   "cell_type": "markdown",
   "metadata": {},
   "source": [
    "<div style=\"font-size: 14;color:red;font-size:25PX;font-family: arial;\" align =\"rigth\" dir=\"rtl\">\n",
    "<b>\n",
    "2- ساخت دیتافریم خالی از روی داده های کوره\n",
    "</b>\n",
    "</div>"
   ]
  },
  {
   "cell_type": "code",
   "execution_count": 2,
   "metadata": {},
   "outputs": [
    {
     "name": "stdout",
     "output_type": "stream",
     "text": [
      "                tar\n",
      "Heat               \n",
      "4024675.0  14020915\n",
      "4024676.0  14020915\n",
      "4024677.0  14020915\n",
      "4024678.0  14020915\n",
      "4024681.0  14020915\n",
      "...             ...\n",
      "4034590.0  14030915\n",
      "4034591.0  14030915\n",
      "4034592.0  14030915\n",
      "4034593.0  14030915\n",
      "4034594.0  14030915\n",
      "\n",
      "[4449 rows x 1 columns]\n"
     ]
    }
   ],
   "source": [
    "df = pd.read_csv(f\"{working_dir}/data/eaf_data.csv\")\n",
    "df.set_index(keys='Heat', inplace=True ,drop=True)\n",
    "root_df = pd.DataFrame(data=df['tar'])\n",
    "del df\n",
    "print(root_df)"
   ]
  },
  {
   "cell_type": "markdown",
   "metadata": {},
   "source": [
    "<div style=\"font-size: 14;color:red;font-size:25PX;font-family: arial;\" align =\"rigth\" dir=\"rtl\">\n",
    "<b>\n",
    "3- تجمیع تمام دیتاهای متریال ورودی به کوره \n",
    "</b>\n",
    "</div>"
   ]
  },
  {
   "cell_type": "code",
   "execution_count": 3,
   "metadata": {},
   "outputs": [
    {
     "name": "stdout",
     "output_type": "stream",
     "text": [
      "(4449, 1)\n",
      "(157, 7)\n",
      "(4449, 2)\n",
      "(181, 8)\n",
      "(289, 7)\n",
      "(345, 15)\n",
      "(316, 6)\n",
      "(1649, 12)\n",
      "(4449, 25)\n",
      "(4449, 31)\n"
     ]
    }
   ],
   "source": [
    "df = pd.read_csv(f\"{working_dir}/data/eaf_data.csv\")\n",
    "df.set_index(keys='Heat', inplace=True ,drop=True)\n",
    "root_df = pd.DataFrame(data=df['tar'])\n",
    "print(root_df.shape)\n",
    "del df\n",
    "#---------------Add Coke 1030 Labels------------\n",
    "df = pd.read_csv(f\"{working_dir}/data/coke_1030_with_labels.csv\")\n",
    "print(df.shape)\n",
    "results = pd.merge(left=root_df,right=df[['tar','labels']],on='tar',how='left').rename({'labels':'Coke_1030_Label'},axis=1)\n",
    "results.set_index(keys=root_df.index, inplace=True ,drop=True)\n",
    "root_df = results.copy()\n",
    "del df,results\n",
    "print(root_df.shape)\n",
    "#---------------Add Coke Fine Labels------------\n",
    "df = pd.read_csv(f\"{working_dir}/data/coke_fine_with_labels.csv\")\n",
    "print(df.shape)\n",
    "results = pd.merge(left=root_df,right=df[['tar','labels']],on='tar',how='left').rename({'labels':'Coke_fine_Label'},axis=1)\n",
    "results.set_index(keys=root_df.index, inplace=True ,drop=True)\n",
    "root_df = results.copy()\n",
    "del df,results\n",
    "#---------------Add dolomite Labels------------\n",
    "df = pd.read_csv(f\"{working_dir}/data/dolo_with_labels.csv\")\n",
    "print(df.shape)\n",
    "results = pd.merge(left=root_df,right=df[['tar','labels']],on='tar',how='left').rename({'labels':'dolo_Label'},axis=1)\n",
    "results.set_index(keys=root_df.index, inplace=True ,drop=True)\n",
    "root_df = results.copy()\n",
    "del df,results\n",
    "#---------------Add dri Labels------------\n",
    "df = pd.read_csv(f\"{working_dir}/data/dri_with_labels.csv\")\n",
    "print(df.shape)\n",
    "results = pd.merge(left=root_df,right=df[['tar','labels']],on='tar',how='left').rename({'labels':'dri_Label'},axis=1)\n",
    "results.set_index(keys=root_df.index, inplace=True ,drop=True)\n",
    "root_df = results.copy()\n",
    "del df,results\n",
    "#---------------Add lime Labels------------\n",
    "df = pd.read_csv(f\"{working_dir}/data/lime_with_labels.csv\")\n",
    "print(df.shape)\n",
    "results = pd.merge(left=root_df,right=df[['tar','labels']],on='tar',how='left').rename({'labels':'lime_Label'},axis=1)\n",
    "results.set_index(keys=root_df.index, inplace=True ,drop=True)\n",
    "root_df = results.copy()\n",
    "del df,results\n",
    "#---------------Add slag Labels------------\n",
    "df = pd.read_csv(f\"{working_dir}/data/slag_with_labels.csv\")\n",
    "print(df.shape)\n",
    "results = pd.merge(left=root_df,right=df[['heat_no','labels']],left_index=True,right_on='heat_no',how='left').rename({'labels':'Slag_Label'},axis=1)\n",
    "results.drop(labels=['heat_no'] ,axis=1,inplace=True)\n",
    "results.set_index(keys=root_df.index, inplace=True ,drop=True)\n",
    "root_df = results.copy()\n",
    "del df,results\n",
    "#---------------Add EAF Data------------\n",
    "df = pd.read_csv(f\"{working_dir}/data/eaf_data.csv\")\n",
    "df.drop(labels=['tar'] ,axis=1,inplace=True)\n",
    "print(df.shape)\n",
    "results = pd.merge(left=root_df,right=df,left_index=True,right_on='Heat',how='left')\n",
    "results.drop(labels=['Heat'] ,axis=1,inplace=True)\n",
    "results.set_index(keys=root_df.index, inplace=True ,drop=True)\n",
    "root_df = results.copy()\n",
    "del df,results\n",
    "print(root_df.shape)\n",
    "root_df.to_csv(f\"{working_dir}/data/eaf_with_all_feed_labels.csv\",index=True)\n",
    "del root_df"
   ]
  }
 ],
 "metadata": {
  "kernelspec": {
   "display_name": "venv",
   "language": "python",
   "name": "python3"
  },
  "language_info": {
   "codemirror_mode": {
    "name": "ipython",
    "version": 3
   },
   "file_extension": ".py",
   "mimetype": "text/x-python",
   "name": "python",
   "nbconvert_exporter": "python",
   "pygments_lexer": "ipython3",
   "version": "3.10.12"
  }
 },
 "nbformat": 4,
 "nbformat_minor": 2
}
