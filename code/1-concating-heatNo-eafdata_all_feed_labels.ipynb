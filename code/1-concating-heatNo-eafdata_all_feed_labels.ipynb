{
 "cells": [
  {
   "cell_type": "markdown",
   "metadata": {},
   "source": [
    "<div style=\"font-size: 14;color:red;font-size:25PX;font-family: arial;\" align =\"rigth\" dir=\"rtl\">\n",
    "<b>\n",
    "بعد از آماده سازی داده ها این مرحله اجرا می شود\n",
    "</b>\n",
    "</div>"
   ]
  },
  {
   "cell_type": "markdown",
   "metadata": {},
   "source": [
    "<div style=\"font-size: 14;color:red;font-size:25PX;font-family: arial;\" align =\"rigth\" dir=\"rtl\">\n",
    "<b>\n",
    "1- فراخوان توابع و کتابخانه های مورد نیاز\n",
    "</b>\n",
    "</div>"
   ]
  },
  {
   "cell_type": "code",
   "execution_count": 1,
   "metadata": {},
   "outputs": [],
   "source": [
    "import os\n",
    "import pandas as pd\n",
    "from persiantools.jdatetime import JalaliDate\n",
    "#working_dir = os.getcwd()\n",
    "working_dir ='..'  # Use on Jupyter Notebook"
   ]
  },
  {
   "cell_type": "markdown",
   "metadata": {},
   "source": [
    "<div style=\"font-size: 14;color:red;font-size:25PX;font-family: arial;\" align =\"rigth\" dir=\"rtl\">\n",
    "<b>\n",
    "2- ساخت دیتافریم خالی از روی داده های کوره\n",
    "</b>\n",
    "</div>"
   ]
  },
  {
   "cell_type": "code",
   "execution_count": 2,
   "metadata": {},
   "outputs": [
    {
     "name": "stdout",
     "output_type": "stream",
     "text": [
      "           tar (EAF)\n",
      "Heat                \n",
      "4024675.0   14020915\n",
      "4024676.0   14020915\n",
      "4024677.0   14020915\n",
      "4024678.0   14020915\n",
      "4024681.0   14020915\n",
      "...              ...\n",
      "4034590.0   14030915\n",
      "4034591.0   14030915\n",
      "4034592.0   14030915\n",
      "4034593.0   14030915\n",
      "4034594.0   14030915\n",
      "\n",
      "[3317 rows x 1 columns]\n"
     ]
    }
   ],
   "source": [
    "df = pd.read_csv(f\"{working_dir}/data/eaf_data.csv\")\n",
    "df.set_index(keys='Heat', inplace=True ,drop=True)\n",
    "root_df = pd.DataFrame(data=df['tar (EAF)'])\n",
    "del df\n",
    "print(root_df)"
   ]
  },
  {
   "cell_type": "markdown",
   "metadata": {},
   "source": [
    "<div style=\"font-size: 14;color:red;font-size:25PX;font-family: arial;\" align =\"rigth\" dir=\"rtl\">\n",
    "<b>\n",
    "3- تجمیع تمام لیبل های متریال ورودی به کوره \n",
    "</b>\n",
    "</div>"
   ]
  },
  {
   "cell_type": "code",
   "execution_count": 3,
   "metadata": {},
   "outputs": [
    {
     "name": "stdout",
     "output_type": "stream",
     "text": [
      "EAF Dataset Rows: (3317, 1)\n",
      "Final Shape of Dataset: (3317, 16)\n",
      "       Coke1030_labels  CokeFine_labels  Dolomite_labels   Dri_labels  \\\n",
      "count      1372.000000      1674.000000      2652.000000  3255.000000   \n",
      "mean          0.556851         0.847670         0.479638     0.617512   \n",
      "std           0.496939         0.359448         0.499679     0.486070   \n",
      "min           0.000000         0.000000         0.000000     0.000000   \n",
      "25%           0.000000         1.000000         0.000000     0.000000   \n",
      "50%           1.000000         1.000000         0.000000     1.000000   \n",
      "75%           1.000000         1.000000         1.000000     1.000000   \n",
      "max           1.000000         1.000000         1.000000     1.000000   \n",
      "\n",
      "       Lime_labels  Slag_labels  Power On (EAF)  Power Off (EAF)  \\\n",
      "count  2841.000000   957.000000     3317.000000      3317.000000   \n",
      "mean      0.614924     1.981191       52.941815         9.265601   \n",
      "std       0.486699     1.105171        3.707643         2.895079   \n",
      "min       0.000000     0.000000       40.000000         4.000000   \n",
      "25%       0.000000     2.000000       51.000000         7.000000   \n",
      "50%       1.000000     2.000000       53.000000         8.000000   \n",
      "75%       1.000000     3.000000       56.000000        10.000000   \n",
      "max       1.000000     3.000000       63.000000        26.000000   \n",
      "\n",
      "       Ele [MW] (EAF)  Tapped [t] (EAF)  O2 [Nm3] (EAF)  CH4 [Nm3] (EAF)  \\\n",
      "count     3317.000000       3317.000000     3317.000000      3317.000000   \n",
      "mean       116.628628        176.370265     5735.001479       602.052564   \n",
      "std          6.886627          4.445154      669.511792       108.683479   \n",
      "min         85.667587        170.000000     2625.638672       290.869965   \n",
      "25%        114.429588        172.938080     5324.681641       530.211060   \n",
      "50%        117.067673        175.350235     5781.573242       584.066101   \n",
      "75%        120.187721        179.338394     6168.490723       658.869690   \n",
      "max        131.602890        199.700012     8875.761719      1131.791504   \n",
      "\n",
      "       C.inj [kg] (EAF)  C [kg] (EAF)  CaO [kg] (EAF)  MgO [kg] (EAF)  \n",
      "count       3317.000000   3317.000000     3317.000000     3317.000000  \n",
      "mean        2012.887454   1521.822132     9858.508734     8867.087992  \n",
      "std          385.286190    476.501992     1041.692383     1942.052490  \n",
      "min            0.000000      0.000000     5361.198242        0.000000  \n",
      "25%         1805.999878   1003.900024     9237.300781     8492.504883  \n",
      "50%         2018.950684   1503.000000     9797.601563     9279.997070  \n",
      "75%         2233.995361   2001.800049    10530.897460     9704.591797  \n",
      "max         3475.000000   2717.100830    15740.782230    12001.679690  \n"
     ]
    }
   ],
   "source": [
    "df = pd.read_csv(f\"{working_dir}/data/eaf_data.csv\")\n",
    "df.set_index(keys='Heat', inplace=True ,drop=True)\n",
    "root_df = pd.DataFrame(data=df['tar (EAF)'])\n",
    "print(f'EAF Dataset Rows: {root_df.shape}')\n",
    "del df\n",
    "#---------------Add Coke 1030 Labels------------\n",
    "df = pd.read_csv(f\"{working_dir}/data/coke_1030_with_labels.csv\")\n",
    "results = pd.merge(left=root_df,right=df[['tar','Coke1030_labels']],left_on='tar (EAF)',right_on='tar',how='left').drop(labels=['tar'],axis=1)\n",
    "results.set_index(keys=root_df.index, inplace=True ,drop=True)\n",
    "root_df = results.copy()\n",
    "del df,results\n",
    "#---------------Add Coke Fine Labels------------\n",
    "df = pd.read_csv(f\"{working_dir}/data/coke_fine_with_labels.csv\")\n",
    "results = pd.merge(left=root_df,right=df[['tar','CokeFine_labels']],left_on='tar (EAF)',right_on='tar',how='left').drop(labels=['tar'],axis=1)\n",
    "results.set_index(keys=root_df.index, inplace=True ,drop=True)\n",
    "root_df = results.copy()\n",
    "del df,results\n",
    "#---------------Add dolomite Labels------------\n",
    "df = pd.read_csv(f\"{working_dir}/data/dolo_with_labels.csv\")\n",
    "results = pd.merge(left=root_df,right=df[['tar','Dolomite_labels']],left_on='tar (EAF)',right_on='tar',how='left').drop(labels=['tar'],axis=1)\n",
    "results.set_index(keys=root_df.index, inplace=True ,drop=True)\n",
    "root_df = results.copy()\n",
    "del df,results\n",
    "#---------------Add dri Labels------------\n",
    "df = pd.read_csv(f\"{working_dir}/data/dri_with_labels.csv\")\n",
    "results = pd.merge(left=root_df,right=df[['tar','Dri_labels']],left_on='tar (EAF)',right_on='tar',how='left').drop(labels=['tar'],axis=1)\n",
    "results.set_index(keys=root_df.index, inplace=True ,drop=True)\n",
    "root_df = results.copy()\n",
    "del df,results\n",
    "#---------------Add lime Labels------------\n",
    "df = pd.read_csv(f\"{working_dir}/data/lime_with_labels.csv\")\n",
    "results = pd.merge(left=root_df,right=df[['tar','Lime_labels']],left_on='tar (EAF)',right_on='tar',how='left').drop(labels=['tar'],axis=1)\n",
    "results.set_index(keys=root_df.index, inplace=True ,drop=True)\n",
    "root_df = results.copy()\n",
    "del df,results\n",
    "#---------------Add slag Labels------------\n",
    "df = pd.read_csv(f\"{working_dir}/data/slag_with_labels.csv\")\n",
    "results = pd.merge(left=root_df,right=df[['heat_no','Slag_labels']],left_index=True,right_on='heat_no',how='left')\n",
    "results.drop(labels=['heat_no'] ,axis=1,inplace=True)\n",
    "results.set_index(keys=root_df.index, inplace=True ,drop=True)\n",
    "root_df = results.copy()\n",
    "del df,results\n",
    "#---------------Add EAF Data------------\n",
    "df = pd.read_csv(f\"{working_dir}/data/eaf_data.csv\")\n",
    "df.drop(labels=['tar (EAF)'] ,axis=1,inplace=True)\n",
    "results = pd.merge(left=root_df,right=df,left_index=True,right_on='Heat',how='left')\n",
    "results.drop(labels=['Heat','tar (EAF)'] ,axis=1,inplace=True)\n",
    "results.set_index(keys=root_df.index, inplace=True ,drop=True)\n",
    "root_df = results.copy()\n",
    "del df,results\n",
    "print(f'Final Shape of Dataset: {root_df.shape}')\n",
    "print(root_df.describe())\n",
    "root_df.to_csv(f\"{working_dir}/data/eaf_with_all_feed_labels.csv\",index=True)\n",
    "del root_df\n",
    "\n",
    "\n"
   ]
  }
 ],
 "metadata": {
  "kernelspec": {
   "display_name": "venv",
   "language": "python",
   "name": "python3"
  },
  "language_info": {
   "codemirror_mode": {
    "name": "ipython",
    "version": 3
   },
   "file_extension": ".py",
   "mimetype": "text/x-python",
   "name": "python",
   "nbconvert_exporter": "python",
   "pygments_lexer": "ipython3",
   "version": "3.10.12"
  }
 },
 "nbformat": 4,
 "nbformat_minor": 4
}
