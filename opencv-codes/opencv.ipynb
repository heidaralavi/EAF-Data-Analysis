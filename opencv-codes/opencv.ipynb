{
 "cells": [
  {
   "cell_type": "markdown",
   "metadata": {},
   "source": [
    "<div style=\"font-size: 14;color:red;font-size:25PX;font-family: arial;\" align =\"rigth\" dir=\"rtl\">\n",
    "<b>\n",
    "1- فراخوان توابع مورد نیاز\n",
    "</b>\n",
    "</div>"
   ]
  },
  {
   "cell_type": "code",
   "execution_count": 3,
   "metadata": {},
   "outputs": [],
   "source": [
    "import os\n",
    "import numpy as np\n",
    "import pandas as pd\n",
    "import cv2 \n",
    "#working_dir = os.getcwd()\n",
    "working_dir ='..'  # Use on Jupyter Notebook"
   ]
  },
  {
   "cell_type": "markdown",
   "metadata": {},
   "source": [
    "<div style=\"font-size: 14;color:red;font-size:25PX;font-family: arial;\" align =\"rigth\" dir=\"rtl\">\n",
    "<b>\n",
    "2- خواندن تصویر و تبدیل به سیاه و سفید\n",
    "</b>\n",
    "</div>"
   ]
  },
  {
   "cell_type": "code",
   "execution_count": 4,
   "metadata": {},
   "outputs": [],
   "source": [
    "img = cv2.imread(f\"{working_dir}/opencv-images/isotermal-b3-1_5.jpg\", cv2.IMREAD_GRAYSCALE)\n",
    "(thresh, im_bw) = cv2.threshold(img, 128, 255, cv2.THRESH_BINARY | cv2.THRESH_OTSU)"
   ]
  },
  {
   "cell_type": "markdown",
   "metadata": {},
   "source": [
    "<div style=\"font-size: 14;color:red;font-size:25PX;font-family: arial;\" align =\"rigth\" dir=\"rtl\">\n",
    "<b>\n",
    "3- تبدیل اطلاعات تصویر به دیتافریم\n",
    "</b>\n",
    "</div>"
   ]
  },
  {
   "cell_type": "code",
   "execution_count": null,
   "metadata": {},
   "outputs": [
    {
     "name": "stdout",
     "output_type": "stream",
     "text": [
      "(322, 502)\n"
     ]
    }
   ],
   "source": [
    "dic = {}\n",
    "for i in range(522):\n",
    "    dic[i] = im_bw[:,i]\n",
    "df = pd.DataFrame(dic)\n",
    "#----------------- Remove the first 7 rows and the last 6 rows -----------------\n",
    "df.drop(index=[0,1,2,3,4,5,6,329,330,331,332,333,334],inplace=True)\n",
    "#----------------- Remove the first 12 columns and the last 12 columns -----------------\n",
    "df.drop(columns=[0,1,2,3,4,5,6,7,8,9,10,11,514,515,516,517,518,519,520,521],inplace=True)\n",
    "df.reset_index(drop=True,inplace=True)\n",
    "df.columns = range(df.shape[1])\n",
    "print(df.shape)\n",
    "df.to_csv(f\"{working_dir}/opencv-images/1.csv\", index=True,header=True)\n",
    "del df"
   ]
  },
  {
   "cell_type": "markdown",
   "metadata": {},
   "source": [
    "<div style=\"font-size: 14;color:red;font-size:25PX;font-family: arial;\" align =\"rigth\" dir=\"rtl\">\n",
    "<b>\n",
    "4- تبدیل اطلاعات تصویر بصورت x و y و label\n",
    "</b>\n",
    "</div>"
   ]
  },
  {
   "cell_type": "code",
   "execution_count": null,
   "metadata": {},
   "outputs": [
    {
     "name": "stdout",
     "output_type": "stream",
     "text": [
      "(322, 502)\n"
     ]
    }
   ],
   "source": [
    "df = pd.read_csv(f\"{working_dir}/opencv-images/1.csv\",index_col=0)\n",
    "print(df.shape)\n",
    "\n",
    "dic_xscale =dict(zip(range(0,df.shape[1]),np.linspace(start=55,stop=0,num=df.shape[1],endpoint=True).round(2)))\n",
    "dic_yscale =dict(zip(range(0,df.shape[0]),np.linspace(start=0,stop=18,num=df.shape[0],endpoint=True).round(2)))\n",
    "dicxy = {}\n",
    "xlist = []\n",
    "ylist = []\n",
    "label = []\n",
    "for i in range(df.shape[1]):\n",
    "    for j in range(df.shape[0]):\n",
    "        if df.iloc[j,i]== 255:\n",
    "            xlist.append(dic_xscale[i])\n",
    "            ylist.append(dic_yscale[j])\n",
    "            label.append(1)\n",
    "        if df.iloc[j,i]== 0:\n",
    "            xlist.append(dic_xscale[i])\n",
    "            ylist.append(dic_yscale[j])\n",
    "            label.append(0)\n",
    "dicxy['x'] = xlist\n",
    "dicxy['y'] = ylist\n",
    "dicxy['label'] = label\n",
    "xydf = pd.DataFrame(dicxy)\n",
    "\n",
    "\n",
    "\n",
    "\n",
    "#xydf.to_csv(f\"{working_dir}/opencv-images/1xy.csv\", index=True,header=True)\n",
    "del xydf,df,dicxy"
   ]
  }
 ],
 "metadata": {
  "kernelspec": {
   "display_name": "venv",
   "language": "python",
   "name": "python3"
  },
  "language_info": {
   "codemirror_mode": {
    "name": "ipython",
    "version": 3
   },
   "file_extension": ".py",
   "mimetype": "text/x-python",
   "name": "python",
   "nbconvert_exporter": "python",
   "pygments_lexer": "ipython3",
   "version": "3.10.12"
  }
 },
 "nbformat": 4,
 "nbformat_minor": 2
}
